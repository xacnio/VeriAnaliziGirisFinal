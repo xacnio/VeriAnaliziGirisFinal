{
  "metadata": {
    "language_info": {
      "codemirror_mode": {
        "name": "python",
        "version": 3
      },
      "file_extension": ".py",
      "mimetype": "text/x-python",
      "name": "python",
      "nbconvert_exporter": "python",
      "pygments_lexer": "ipython3",
      "version": "3.8"
    },
    "kernelspec": {
      "name": "python",
      "display_name": "Python (Pyodide)",
      "language": "python"
    }
  },
  "nbformat_minor": 4,
  "nbformat": 4,
  "cells": [
    {
      "cell_type": "code",
      "source": "import pandas as pd\ncikolataVeri = pd.read_csv('veri_set.csv')\nsirketSayilar = cikolataVeri.groupby('Company Location')['Company (Manufacturer)'].nunique().sort_values(ascending=False)\nprint(sirketSayilar)",
      "metadata": {
        "trusted": true
      },
      "execution_count": 2,
      "outputs": [
        {
          "name": "stdout",
          "text": "Company Location\nU.S.A.         261\nCanada          32\nU.K.            30\nFrance          29\nEcuador         17\n              ... \nFiji             1\nEl Salvador      1\nChile            1\nBolivia          1\nWales            1\nName: Company (Manufacturer), Length: 66, dtype: int64\n",
          "output_type": "stream"
        }
      ]
    },
    {
      "cell_type": "code",
      "source": "import pandas as pd\ncikolataVeri = pd.read_csv('veri_set.csv')\nbarSayisi = cikolataVeri.groupby('Company Location')['Specific Bean Origin or Bar Name'].count().sort_values(ascending=False)\nprint(barSayisi)",
      "metadata": {
        "trusted": true
      },
      "execution_count": 3,
      "outputs": [
        {
          "name": "stdout",
          "text": "Company Location\nU.S.A.                   1193\nFrance                    186\nCanada                    178\nU.K.                      135\nItaly                      83\n                         ... \nSuriname                    1\nSt.Vincent-Grenadines       1\nNicaraqua                   1\nGhana                       1\nWales                       1\nName: Specific Bean Origin or Bar Name, Length: 66, dtype: int64\n",
          "output_type": "stream"
        }
      ]
    },
    {
      "cell_type": "code",
      "source": "import pandas as pd\ncikolataVeri = pd.read_csv('veri_set.csv')\nmenseiUlkeOrtalama = cikolataVeri.groupby('Country of Bean Origin')['Rating'].mean().sort_values(ascending=False)\nprint(menseiUlkeOrtalama)",
      "metadata": {
        "trusted": true
      },
      "execution_count": 4,
      "outputs": [
        {
          "name": "stdout",
          "text": "Country of Bean Origin\nHawai'i                  3.750000\nTobago                   3.625000\nChina                    3.500000\nSao Tome & Principe      3.500000\nSolomon Islands          3.450000\n                           ...   \nSt.Vincent-Grenadines    2.750000\nSierra Leone             2.750000\nPrincipe                 2.750000\nPuerto Rico              2.714286\nBali                     2.500000\nName: Rating, Length: 64, dtype: float64\n",
          "output_type": "stream"
        }
      ]
    },
    {
      "cell_type": "code",
      "source": "import pandas as pd\ncikolataVeri = pd.read_csv('veri_set.csv')\nenCokIncelemeYil = cikolataVeri['Review Date'].value_counts().idxmax()\nprint(enCokIncelemeYil)",
      "metadata": {
        "trusted": true
      },
      "execution_count": 5,
      "outputs": [
        {
          "name": "stdout",
          "text": "2015\n",
          "output_type": "stream"
        }
      ]
    },
    {
      "cell_type": "code",
      "source": "import pandas as pd\ncikolataVeri = pd.read_csv('veri_set.csv')\nenAzIncelemeYil = cikolataVeri['Review Date'].value_counts().idxmin()\nprint(enAzIncelemeYil)",
      "metadata": {
        "trusted": true
      },
      "execution_count": 6,
      "outputs": [
        {
          "name": "stdout",
          "text": "2006\n",
          "output_type": "stream"
        }
      ]
    },
    {
      "cell_type": "code",
      "source": "import pandas as pd\ncikolataVeri = pd.read_csv('veri_set.csv')\nmean_ratings = cikolataVeri.groupby('Country of Bean Origin')['Rating'].mean()\nstd_ratings = cikolataVeri.groupby('Country of Bean Origin')['Rating'].std(0)\nmin_ratings = cikolataVeri.groupby('Country of Bean Origin')['Rating'].min()\nmax_ratings = cikolataVeri.groupby('Country of Bean Origin')['Rating'].max()\ncount_ratings = cikolataVeri.groupby('Country of Bean Origin')['Rating'].count()\n\nresult = pd.concat([min_ratings, max_ratings, mean_ratings, std_ratings, count_ratings], axis=1)\nresult.columns = ['Min Puan', 'Max Puan', 'Ortalama Puan', 'Standart Sapma', 'Bar Sayı']\nresult = result.sort_values(by='Max Puan', ascending=False)\nprint(\"En yüksek puanlı bara sahip ülkeler:\")\nprint(result)\nprint(\"En kaliteli bar puan ortalamasına sahip ülkeler:\")\nresult = result.sort_values('Ortalama Puan', ascending=False)\nprint(result)\nprint(\"En kaliteli çikolata kökenleri:\")\n# Sort: standart sapma en düşük ve ortalama puanı en yüksek olanlar\nresult = result.sort_values(['Ortalama Puan', 'Standart Sapma'], ascending=[False, True])\nprint(result)\n",
      "metadata": {
        "trusted": true
      },
      "execution_count": 7,
      "outputs": [
        {
          "name": "stdout",
          "text": "En yüksek puanlı bara sahip ülkeler:\n                        Min Puan  Max Puan  Ortalama Puan  Standart Sapma  \\\nCountry of Bean Origin                                                      \nVietnam                     2.50      4.00       3.268987        0.334636   \nMexico                      2.00      4.00       3.159483        0.451764   \nNicaragua                   2.00      4.00       3.259615        0.379656   \nJamaica                     2.00      4.00       3.221154        0.451104   \nPapua New Guinea            2.50      4.00       3.280000        0.372961   \n...                          ...       ...            ...             ...   \nSumatra                     3.00      3.00       3.000000        0.000000   \nMartinique                  2.75      2.75       2.750000        0.000000   \nSt.Vincent-Grenadines       2.75      2.75       2.750000        0.000000   \nPrincipe                    2.75      2.75       2.750000        0.000000   \nBali                        2.50      2.50       2.500000        0.000000   \n\n                        Bar Sayı  \nCountry of Bean Origin            \nVietnam                       79  \nMexico                        58  \nNicaragua                    104  \nJamaica                       26  \nPapua New Guinea              50  \n...                          ...  \nSumatra                        1  \nMartinique                     1  \nSt.Vincent-Grenadines          1  \nPrincipe                       1  \nBali                           1  \n\n[64 rows x 5 columns]\nEn kaliteli bar puan ortalamasına sahip ülkeler:\n                        Min Puan  Max Puan  Ortalama Puan  Standart Sapma  \\\nCountry of Bean Origin                                                      \nHawai'i                     3.75      3.75       3.750000        0.000000   \nTobago                      3.25      4.00       3.625000        0.375000   \nSao Tome & Principe         3.50      3.50       3.500000        0.000000   \nChina                       3.50      3.50       3.500000        0.000000   \nSolomon Islands             3.00      4.00       3.450000        0.291548   \n...                          ...       ...            ...             ...   \nMartinique                  2.75      2.75       2.750000        0.000000   \nSt.Vincent-Grenadines       2.75      2.75       2.750000        0.000000   \nPrincipe                    2.75      2.75       2.750000        0.000000   \nPuerto Rico                 2.25      3.50       2.714286        0.387956   \nBali                        2.50      2.50       2.500000        0.000000   \n\n                        Bar Sayı  \nCountry of Bean Origin            \nHawai'i                        1  \nTobago                         2  \nSao Tome & Principe            2  \nChina                          1  \nSolomon Islands               10  \n...                          ...  \nMartinique                     1  \nSt.Vincent-Grenadines          1  \nPrincipe                       1  \nPuerto Rico                    7  \nBali                           1  \n\n[64 rows x 5 columns]\nEn kaliteli çikolata kökenleri:\n                        Min Puan  Max Puan  Ortalama Puan  Standart Sapma  \\\nCountry of Bean Origin                                                      \nHawai'i                     3.75      3.75       3.750000        0.000000   \nTobago                      3.25      4.00       3.625000        0.375000   \nSao Tome & Principe         3.50      3.50       3.500000        0.000000   \nChina                       3.50      3.50       3.500000        0.000000   \nSolomon Islands             3.00      4.00       3.450000        0.291548   \n...                          ...       ...            ...             ...   \nSt.Vincent-Grenadines       2.75      2.75       2.750000        0.000000   \nPrincipe                    2.75      2.75       2.750000        0.000000   \nSierra Leone                2.50      3.00       2.750000        0.250000   \nPuerto Rico                 2.25      3.50       2.714286        0.387956   \nBali                        2.50      2.50       2.500000        0.000000   \n\n                        Bar Sayı  \nCountry of Bean Origin            \nHawai'i                        1  \nTobago                         2  \nSao Tome & Principe            2  \nChina                          1  \nSolomon Islands               10  \n...                          ...  \nSt.Vincent-Grenadines          1  \nPrincipe                       1  \nSierra Leone                   4  \nPuerto Rico                    7  \nBali                           1  \n\n[64 rows x 5 columns]\n",
          "output_type": "stream"
        }
      ]
    },
    {
      "cell_type": "code",
      "source": "import pandas as pd\ncikolataVeri = pd.read_csv('veri_set.csv')\nmenseiSayilar = cikolataVeri['Country of Bean Origin'].value_counts()\nprint(menseiSayilar)",
      "metadata": {
        "trusted": true
      },
      "execution_count": 8,
      "outputs": [
        {
          "name": "stdout",
          "text": "Venezuela                257\nPeru                     253\nDominican Republic       237\nEcuador                  223\nMadagascar               186\n                        ... \nBurma                      1\nSumatra                    1\nMartinique                 1\nSt.Vincent-Grenadines      1\nDR Congo                   1\nName: Country of Bean Origin, Length: 64, dtype: int64\n",
          "output_type": "stream"
        }
      ]
    },
    {
      "cell_type": "code",
      "source": "import pandas as pd\ncikolataVeri = pd.read_csv('veri_set.csv')\nlesitinliOrtalama = cikolataVeri[cikolataVeri['Ingredients'].str.contains('L', na=False)]['Rating'].mean()\nlesitinsizOrtalama = cikolataVeri[~cikolataVeri['Ingredients'].str.contains('L', na=False)]['Rating'].mean()\n\nprint(\"Lesitinli çikolataların ortalama puanı:\", lesitinliOrtalama)\nprint(\"Lesitinsiz çikolataların ortalama puanı:\", lesitinsizOrtalama)",
      "metadata": {
        "trusted": true
      },
      "execution_count": 9,
      "outputs": [
        {
          "name": "stdout",
          "text": "Lesitinli çikolataların ortalama puanı: 3.152\nLesitinsiz çikolataların ortalama puanı: 3.2094277673545966\n",
          "output_type": "stream"
        }
      ]
    },
    {
      "cell_type": "code",
      "source": "import pandas as pd\ncikolataVeri = pd.read_csv('veri_set.csv')\nortPuanlar = cikolataVeri.groupby('Country of Bean Origin')['Rating'].mean().sort_values(ascending=False)\nprint(ortPuanlar)",
      "metadata": {
        "trusted": true
      },
      "execution_count": 10,
      "outputs": [
        {
          "name": "stdout",
          "text": "Country of Bean Origin\nHawai'i                  3.750000\nTobago                   3.625000\nChina                    3.500000\nSao Tome & Principe      3.500000\nSolomon Islands          3.450000\n                           ...   \nSt.Vincent-Grenadines    2.750000\nSierra Leone             2.750000\nPrincipe                 2.750000\nPuerto Rico              2.714286\nBali                     2.500000\nName: Rating, Length: 64, dtype: float64\n",
          "output_type": "stream"
        }
      ]
    }
  ]
}